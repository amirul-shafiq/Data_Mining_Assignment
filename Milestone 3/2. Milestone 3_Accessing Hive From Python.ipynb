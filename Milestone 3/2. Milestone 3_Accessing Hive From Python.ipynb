{
 "cells": [
  {
   "cell_type": "code",
   "execution_count": 1,
   "metadata": {},
   "outputs": [],
   "source": [
    "import pandas as pd\n",
    "from pyhive import hive"
   ]
  },
  {
   "cell_type": "code",
   "execution_count": 2,
   "metadata": {},
   "outputs": [],
   "source": [
    "conn = hive.Connection(host=\"localhost\", port=10000)"
   ]
  },
  {
   "cell_type": "code",
   "execution_count": 3,
   "metadata": {},
   "outputs": [],
   "source": [
    "df = pd.read_sql(\"SELECT * FROM default.df2\", conn)"
   ]
  },
  {
   "cell_type": "code",
   "execution_count": 4,
   "metadata": {},
   "outputs": [
    {
     "data": {
      "text/html": [
       "<div>\n",
       "<style scoped>\n",
       "    .dataframe tbody tr th:only-of-type {\n",
       "        vertical-align: middle;\n",
       "    }\n",
       "\n",
       "    .dataframe tbody tr th {\n",
       "        vertical-align: top;\n",
       "    }\n",
       "\n",
       "    .dataframe thead th {\n",
       "        text-align: right;\n",
       "    }\n",
       "</style>\n",
       "<table border=\"1\" class=\"dataframe\">\n",
       "  <thead>\n",
       "    <tr style=\"text-align: right;\">\n",
       "      <th></th>\n",
       "      <th>df2.quarter</th>\n",
       "      <th>df2.axiata</th>\n",
       "      <th>df2.digi</th>\n",
       "      <th>df2.maxis</th>\n",
       "      <th>df2.tm</th>\n",
       "    </tr>\n",
       "  </thead>\n",
       "  <tbody>\n",
       "    <tr>\n",
       "      <th>0</th>\n",
       "      <td>2009-09-30</td>\n",
       "      <td>3380922</td>\n",
       "      <td>1238766</td>\n",
       "      <td>2156000</td>\n",
       "      <td>2101087</td>\n",
       "    </tr>\n",
       "    <tr>\n",
       "      <th>1</th>\n",
       "      <td>2009-12-31</td>\n",
       "      <td>3693781</td>\n",
       "      <td>1247612</td>\n",
       "      <td>2211000</td>\n",
       "      <td>2272544</td>\n",
       "    </tr>\n",
       "    <tr>\n",
       "      <th>2</th>\n",
       "      <td>2010-03-31</td>\n",
       "      <td>3812685</td>\n",
       "      <td>1290358</td>\n",
       "      <td>2152000</td>\n",
       "      <td>2124883</td>\n",
       "    </tr>\n",
       "    <tr>\n",
       "      <th>3</th>\n",
       "      <td>2010-06-30</td>\n",
       "      <td>3854069</td>\n",
       "      <td>1335096</td>\n",
       "      <td>2191000</td>\n",
       "      <td>2150938</td>\n",
       "    </tr>\n",
       "    <tr>\n",
       "      <th>4</th>\n",
       "      <td>2010-09-30</td>\n",
       "      <td>3937205</td>\n",
       "      <td>1351341</td>\n",
       "      <td>2216000</td>\n",
       "      <td>2194558</td>\n",
       "    </tr>\n",
       "  </tbody>\n",
       "</table>\n",
       "</div>"
      ],
      "text/plain": [
       "  df2.quarter  df2.axiata  df2.digi  df2.maxis   df2.tm\n",
       "0  2009-09-30     3380922   1238766    2156000  2101087\n",
       "1  2009-12-31     3693781   1247612    2211000  2272544\n",
       "2  2010-03-31     3812685   1290358    2152000  2124883\n",
       "3  2010-06-30     3854069   1335096    2191000  2150938\n",
       "4  2010-09-30     3937205   1351341    2216000  2194558"
      ]
     },
     "execution_count": 4,
     "metadata": {},
     "output_type": "execute_result"
    }
   ],
   "source": [
    "df.head()"
   ]
  },
  {
   "cell_type": "code",
   "execution_count": 5,
   "metadata": {},
   "outputs": [
    {
     "data": {
      "text/html": [
       "<div>\n",
       "<style scoped>\n",
       "    .dataframe tbody tr th:only-of-type {\n",
       "        vertical-align: middle;\n",
       "    }\n",
       "\n",
       "    .dataframe tbody tr th {\n",
       "        vertical-align: top;\n",
       "    }\n",
       "\n",
       "    .dataframe thead th {\n",
       "        text-align: right;\n",
       "    }\n",
       "</style>\n",
       "<table border=\"1\" class=\"dataframe\">\n",
       "  <thead>\n",
       "    <tr style=\"text-align: right;\">\n",
       "      <th></th>\n",
       "      <th>df2.axiata</th>\n",
       "      <th>df2.digi</th>\n",
       "      <th>df2.maxis</th>\n",
       "      <th>df2.tm</th>\n",
       "    </tr>\n",
       "  </thead>\n",
       "  <tbody>\n",
       "    <tr>\n",
       "      <th>count</th>\n",
       "      <td>4.300000e+01</td>\n",
       "      <td>4.300000e+01</td>\n",
       "      <td>4.300000e+01</td>\n",
       "      <td>4.300000e+01</td>\n",
       "    </tr>\n",
       "    <tr>\n",
       "      <th>mean</th>\n",
       "      <td>4.982791e+06</td>\n",
       "      <td>1.586184e+06</td>\n",
       "      <td>2.214674e+06</td>\n",
       "      <td>2.694206e+06</td>\n",
       "    </tr>\n",
       "    <tr>\n",
       "      <th>std</th>\n",
       "      <td>8.641711e+05</td>\n",
       "      <td>1.388962e+05</td>\n",
       "      <td>9.578068e+04</td>\n",
       "      <td>3.345451e+05</td>\n",
       "    </tr>\n",
       "    <tr>\n",
       "      <th>min</th>\n",
       "      <td>3.380922e+06</td>\n",
       "      <td>1.238766e+06</td>\n",
       "      <td>2.065000e+06</td>\n",
       "      <td>2.101087e+06</td>\n",
       "    </tr>\n",
       "    <tr>\n",
       "      <th>25%</th>\n",
       "      <td>4.344400e+06</td>\n",
       "      <td>1.547072e+06</td>\n",
       "      <td>2.154000e+06</td>\n",
       "      <td>2.404248e+06</td>\n",
       "    </tr>\n",
       "    <tr>\n",
       "      <th>50%</th>\n",
       "      <td>4.747318e+06</td>\n",
       "      <td>1.618345e+06</td>\n",
       "      <td>2.214000e+06</td>\n",
       "      <td>2.778922e+06</td>\n",
       "    </tr>\n",
       "    <tr>\n",
       "      <th>75%</th>\n",
       "      <td>5.874018e+06</td>\n",
       "      <td>1.674696e+06</td>\n",
       "      <td>2.245000e+06</td>\n",
       "      <td>2.943220e+06</td>\n",
       "    </tr>\n",
       "    <tr>\n",
       "      <th>max</th>\n",
       "      <td>6.267007e+06</td>\n",
       "      <td>1.798623e+06</td>\n",
       "      <td>2.590000e+06</td>\n",
       "      <td>3.237032e+06</td>\n",
       "    </tr>\n",
       "  </tbody>\n",
       "</table>\n",
       "</div>"
      ],
      "text/plain": [
       "         df2.axiata      df2.digi     df2.maxis        df2.tm\n",
       "count  4.300000e+01  4.300000e+01  4.300000e+01  4.300000e+01\n",
       "mean   4.982791e+06  1.586184e+06  2.214674e+06  2.694206e+06\n",
       "std    8.641711e+05  1.388962e+05  9.578068e+04  3.345451e+05\n",
       "min    3.380922e+06  1.238766e+06  2.065000e+06  2.101087e+06\n",
       "25%    4.344400e+06  1.547072e+06  2.154000e+06  2.404248e+06\n",
       "50%    4.747318e+06  1.618345e+06  2.214000e+06  2.778922e+06\n",
       "75%    5.874018e+06  1.674696e+06  2.245000e+06  2.943220e+06\n",
       "max    6.267007e+06  1.798623e+06  2.590000e+06  3.237032e+06"
      ]
     },
     "execution_count": 5,
     "metadata": {},
     "output_type": "execute_result"
    }
   ],
   "source": [
    "df.describe()"
   ]
  },
  {
   "cell_type": "code",
   "execution_count": null,
   "metadata": {},
   "outputs": [],
   "source": []
  }
 ],
 "metadata": {
  "kernelspec": {
   "display_name": "Python 3",
   "language": "python",
   "name": "python3"
  },
  "language_info": {
   "codemirror_mode": {
    "name": "ipython",
    "version": 3
   },
   "file_extension": ".py",
   "mimetype": "text/x-python",
   "name": "python",
   "nbconvert_exporter": "python",
   "pygments_lexer": "ipython3",
   "version": "3.8.0"
  }
 },
 "nbformat": 4,
 "nbformat_minor": 4
}
