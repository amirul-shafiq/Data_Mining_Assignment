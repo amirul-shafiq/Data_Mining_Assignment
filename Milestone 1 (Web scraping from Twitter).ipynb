{
 "cells": [
  {
   "cell_type": "markdown",
   "metadata": {},
   "source": [
    "##Web Crawl from Twitter"
   ]
  },
  {
   "cell_type": "code",
   "execution_count": 1,
   "metadata": {},
   "outputs": [],
   "source": [
    "import random\n",
    "import time\n",
    "import datetime\n",
    "import tweepy\n",
    "import pandas as pd\n",
    "\n",
    "from lxml.html import fromstring\n",
    "import nltk\n",
    "import requests\n",
    "from twitter import OAuth, Twitter\n",
    "\n",
    "import credentials"
   ]
  },
  {
   "cell_type": "code",
   "execution_count": 2,
   "metadata": {},
   "outputs": [],
   "source": [
    "consumer_key = \"FEeKdLVLUJoNKuPL011y6bNWD\"\n",
    "consumer_secret = \"Z3b0U941WFyYd9P3mztxoacQX31T3YkgFde4ZWJ4lkTYcpdYBF\"\n",
    "access_token = \"552164994-MuDIZ1L2C2QTjRCH2fNZ9cNXEXlsHmyACTazENat\"\n",
    "access_token_secret = \"EO7zGxuwPd8oxNGswfWESILdccUfalTKfd0G7K1GxmwrH\"\n",
    "\n",
    "auth = tweepy.OAuthHandler(consumer_key, consumer_secret)\n",
    "auth.set_access_token(access_token, access_token_secret)\n",
    "api = tweepy.API(auth,wait_on_rate_limit=True)"
   ]
  },
  {
   "cell_type": "markdown",
   "metadata": {},
   "source": [
    "### Maxis###"
   ]
  },
  {
   "cell_type": "code",
   "execution_count": 3,
   "metadata": {},
   "outputs": [],
   "source": [
    "tweets_list = []\n",
    "text_query = ['maxis']\n",
    "count = 100\n",
    "try:\n",
    "# Pulling individual tweets from query\n",
    "    for tweet in api.search(q=text_query, count=count):\n",
    "# Adding to list that contains all tweets\n",
    "      tweets_list.append((tweet.created_at,tweet.id,tweet.text, tweet.retweet_count, tweet.favorite_count ))\n",
    "except BaseException as e:\n",
    "    print('failed on_status,',str(e))\n",
    "    #time.sleep(3)"
   ]
  },
  {
   "cell_type": "code",
   "execution_count": 4,
   "metadata": {},
   "outputs": [],
   "source": [
    "for tweet in api.search(q=text_query, count=count):\n",
    "  # Appending chosen tweet data\n",
    "  tweets_list.append((tweet.created_at,tweet.id,tweet.text, tweet.retweet_count,   tweet.favorite_count))"
   ]
  },
  {
   "cell_type": "code",
   "execution_count": 5,
   "metadata": {},
   "outputs": [],
   "source": [
    "tweet_maxis = pd.DataFrame(tweets_list, columns = ['date_time', 'id', 'tweets', 'retweet', 'favourite'])"
   ]
  },
  {
   "cell_type": "markdown",
   "metadata": {},
   "source": [
    "### Celcom###"
   ]
  },
  {
   "cell_type": "code",
   "execution_count": 6,
   "metadata": {},
   "outputs": [],
   "source": [
    "tweets_list = []\n",
    "text_query = 'celcom'\n",
    "count = 100\n",
    "try:\n",
    "# Pulling individual tweets from query\n",
    "    for tweet in api.search(q=text_query, count=count):\n",
    "# Adding to list that contains all tweets\n",
    "      tweets_list.append((tweet.created_at,tweet.id,tweet.text, tweet.retweet_count, tweet.favorite_count ))\n",
    "except BaseException as e:\n",
    "    print('failed on_status,',str(e))\n",
    "    #time.sleep(3)"
   ]
  },
  {
   "cell_type": "code",
   "execution_count": 7,
   "metadata": {},
   "outputs": [],
   "source": [
    "for tweet in api.search(q=text_query, count=count):\n",
    "  # Appending chosen tweet data\n",
    "  tweets_list.append((tweet.created_at,tweet.id,tweet.text, tweet.retweet_count,   tweet.favorite_count))"
   ]
  },
  {
   "cell_type": "code",
   "execution_count": 8,
   "metadata": {},
   "outputs": [],
   "source": [
    "tweet_celcom = pd.DataFrame(tweets_list, columns = ['date_time', 'id', 'tweets', 'retweet', 'favourite'])"
   ]
  },
  {
   "cell_type": "markdown",
   "metadata": {},
   "source": [
    "### Digi###"
   ]
  },
  {
   "cell_type": "code",
   "execution_count": 9,
   "metadata": {},
   "outputs": [],
   "source": [
    "tweets_list = []\n",
    "text_query = 'Digi'\n",
    "count = 100\n",
    "try:\n",
    "# Pulling individual tweets from query\n",
    "    for tweet in api.search(q=text_query, count=count):\n",
    "# Adding to list that contains all tweets\n",
    "      tweets_list.append((tweet.created_at,tweet.id,tweet.text, tweet.retweet_count, tweet.favorite_count ))\n",
    "except BaseException as e:\n",
    "    print('failed on_status,',str(e))\n",
    "    #time.sleep(3)"
   ]
  },
  {
   "cell_type": "code",
   "execution_count": 10,
   "metadata": {},
   "outputs": [],
   "source": [
    "for tweet in api.search(q=text_query, count=count):\n",
    "  # Appending chosen tweet data\n",
    "  tweets_list.append((tweet.created_at,tweet.id,tweet.text, tweet.retweet_count,   tweet.favorite_count))"
   ]
  },
  {
   "cell_type": "code",
   "execution_count": 11,
   "metadata": {},
   "outputs": [],
   "source": [
    "tweet_digi = pd.DataFrame(tweets_list, columns = ['date_time', 'id', 'tweets', 'retweet', 'favourite'])"
   ]
  },
  {
   "cell_type": "markdown",
   "metadata": {},
   "source": [
    "### Umobile###"
   ]
  },
  {
   "cell_type": "code",
   "execution_count": 12,
   "metadata": {},
   "outputs": [],
   "source": [
    "tweets_list = []\n",
    "text_query = 'umobile'\n",
    "count = 100\n",
    "try:\n",
    "# Pulling individual tweets from query\n",
    "    for tweet in api.search(q=text_query, count=count):\n",
    "# Adding to list that contains all tweets\n",
    "      tweets_list.append((tweet.created_at,tweet.id,tweet.text, tweet.retweet_count, tweet.favorite_count ))\n",
    "except BaseException as e:\n",
    "    print('failed on_status,',str(e))\n",
    "    #time.sleep(3)"
   ]
  },
  {
   "cell_type": "code",
   "execution_count": 13,
   "metadata": {},
   "outputs": [],
   "source": [
    "for tweet in api.search(q=text_query, count=count):\n",
    "  # Appending chosen tweet data\n",
    "  tweets_list.append((tweet.created_at,tweet.id,tweet.text, tweet.retweet_count,   tweet.favorite_count))"
   ]
  },
  {
   "cell_type": "code",
   "execution_count": 14,
   "metadata": {},
   "outputs": [],
   "source": [
    "tweet_umobile = pd.DataFrame(tweets_list, columns = ['date_time', 'id', 'tweets', 'retweet', 'favourite'])"
   ]
  },
  {
   "cell_type": "code",
   "execution_count": 15,
   "metadata": {},
   "outputs": [],
   "source": [
    "#append all df\n",
    "tweet_telco = pd.concat([tweet_umobile, tweet_digi, tweet_celcom, tweet_maxis])"
   ]
  },
  {
   "cell_type": "code",
   "execution_count": 16,
   "metadata": {},
   "outputs": [
    {
     "data": {
      "text/html": [
       "<div>\n",
       "<style scoped>\n",
       "    .dataframe tbody tr th:only-of-type {\n",
       "        vertical-align: middle;\n",
       "    }\n",
       "\n",
       "    .dataframe tbody tr th {\n",
       "        vertical-align: top;\n",
       "    }\n",
       "\n",
       "    .dataframe thead th {\n",
       "        text-align: right;\n",
       "    }\n",
       "</style>\n",
       "<table border=\"1\" class=\"dataframe\">\n",
       "  <thead>\n",
       "    <tr style=\"text-align: right;\">\n",
       "      <th></th>\n",
       "      <th>date_time</th>\n",
       "      <th>id</th>\n",
       "      <th>tweets</th>\n",
       "      <th>retweet</th>\n",
       "      <th>favourite</th>\n",
       "    </tr>\n",
       "  </thead>\n",
       "  <tbody>\n",
       "    <tr>\n",
       "      <th>0</th>\n",
       "      <td>2020-03-18 09:17:51</td>\n",
       "      <td>1240205765786271744</td>\n",
       "      <td>@mona_menot Hai @mona_menot :), sila DM kami m...</td>\n",
       "      <td>0</td>\n",
       "      <td>0</td>\n",
       "    </tr>\n",
       "    <tr>\n",
       "      <th>1</th>\n",
       "      <td>2020-03-18 09:17:34</td>\n",
       "      <td>1240205694541811715</td>\n",
       "      <td>@umobile tak yah la beli . lagi slow line nya ...</td>\n",
       "      <td>0</td>\n",
       "      <td>0</td>\n",
       "    </tr>\n",
       "    <tr>\n",
       "      <th>2</th>\n",
       "      <td>2020-03-18 09:16:14</td>\n",
       "      <td>1240205362403270657</td>\n",
       "      <td>Banyak kali bodo aku topup @umobile  Rm30 tapi...</td>\n",
       "      <td>0</td>\n",
       "      <td>0</td>\n",
       "    </tr>\n",
       "    <tr>\n",
       "      <th>3</th>\n",
       "      <td>2020-03-18 09:15:16</td>\n",
       "      <td>1240205119108472833</td>\n",
       "      <td>@lomlkji Hai, ini bukan apa yang kami inginkan...</td>\n",
       "      <td>0</td>\n",
       "      <td>0</td>\n",
       "    </tr>\n",
       "    <tr>\n",
       "      <th>4</th>\n",
       "      <td>2020-03-18 09:14:58</td>\n",
       "      <td>1240205040632999938</td>\n",
       "      <td>@umobile i wonder kenapa bila bill generated, ...</td>\n",
       "      <td>0</td>\n",
       "      <td>0</td>\n",
       "    </tr>\n",
       "    <tr>\n",
       "      <th>...</th>\n",
       "      <td>...</td>\n",
       "      <td>...</td>\n",
       "      <td>...</td>\n",
       "      <td>...</td>\n",
       "      <td>...</td>\n",
       "    </tr>\n",
       "    <tr>\n",
       "      <th>195</th>\n",
       "      <td>2020-03-18 07:09:00</td>\n",
       "      <td>1240173343153639430</td>\n",
       "      <td>RT @rmlinwr: Dengan situation kat malaysia sek...</td>\n",
       "      <td>1</td>\n",
       "      <td>0</td>\n",
       "    </tr>\n",
       "    <tr>\n",
       "      <th>196</th>\n",
       "      <td>2020-03-18 07:08:56</td>\n",
       "      <td>1240173325952811009</td>\n",
       "      <td>Dear maxis ,\\n\\nBagilah lh promo sementara cut...</td>\n",
       "      <td>0</td>\n",
       "      <td>0</td>\n",
       "    </tr>\n",
       "    <tr>\n",
       "      <th>197</th>\n",
       "      <td>2020-03-18 07:06:24</td>\n",
       "      <td>1240172684794716160</td>\n",
       "      <td>@HotlinkListens Does it have a time limit? I a...</td>\n",
       "      <td>0</td>\n",
       "      <td>0</td>\n",
       "    </tr>\n",
       "    <tr>\n",
       "      <th>198</th>\n",
       "      <td>2020-03-18 07:04:56</td>\n",
       "      <td>1240172317029752832</td>\n",
       "      <td>@Maxis hi maxis, harini memang no service ke c...</td>\n",
       "      <td>0</td>\n",
       "      <td>0</td>\n",
       "    </tr>\n",
       "    <tr>\n",
       "      <th>199</th>\n",
       "      <td>2020-03-18 07:03:49</td>\n",
       "      <td>1240172036841857024</td>\n",
       "      <td>Line maxis kat rumah ni cambodoh!! Rumah tenga...</td>\n",
       "      <td>0</td>\n",
       "      <td>0</td>\n",
       "    </tr>\n",
       "  </tbody>\n",
       "</table>\n",
       "<p>800 rows × 5 columns</p>\n",
       "</div>"
      ],
      "text/plain": [
       "              date_time                   id  \\\n",
       "0   2020-03-18 09:17:51  1240205765786271744   \n",
       "1   2020-03-18 09:17:34  1240205694541811715   \n",
       "2   2020-03-18 09:16:14  1240205362403270657   \n",
       "3   2020-03-18 09:15:16  1240205119108472833   \n",
       "4   2020-03-18 09:14:58  1240205040632999938   \n",
       "..                  ...                  ...   \n",
       "195 2020-03-18 07:09:00  1240173343153639430   \n",
       "196 2020-03-18 07:08:56  1240173325952811009   \n",
       "197 2020-03-18 07:06:24  1240172684794716160   \n",
       "198 2020-03-18 07:04:56  1240172317029752832   \n",
       "199 2020-03-18 07:03:49  1240172036841857024   \n",
       "\n",
       "                                                tweets  retweet  favourite  \n",
       "0    @mona_menot Hai @mona_menot :), sila DM kami m...        0          0  \n",
       "1    @umobile tak yah la beli . lagi slow line nya ...        0          0  \n",
       "2    Banyak kali bodo aku topup @umobile  Rm30 tapi...        0          0  \n",
       "3    @lomlkji Hai, ini bukan apa yang kami inginkan...        0          0  \n",
       "4    @umobile i wonder kenapa bila bill generated, ...        0          0  \n",
       "..                                                 ...      ...        ...  \n",
       "195  RT @rmlinwr: Dengan situation kat malaysia sek...        1          0  \n",
       "196  Dear maxis ,\\n\\nBagilah lh promo sementara cut...        0          0  \n",
       "197  @HotlinkListens Does it have a time limit? I a...        0          0  \n",
       "198  @Maxis hi maxis, harini memang no service ke c...        0          0  \n",
       "199  Line maxis kat rumah ni cambodoh!! Rumah tenga...        0          0  \n",
       "\n",
       "[800 rows x 5 columns]"
      ]
     },
     "execution_count": 16,
     "metadata": {},
     "output_type": "execute_result"
    }
   ],
   "source": [
    "tweet_telco"
   ]
  },
  {
   "cell_type": "code",
   "execution_count": 17,
   "metadata": {},
   "outputs": [],
   "source": [
    "##Future Work\n",
    "#1)remove duplicate ID\n",
    "#2)add selected date(1yeardata)\n",
    "#3)set location to malaysia (can be the key word maxis exist in spain or other country)"
   ]
  }
 ],
 "metadata": {
  "kernelspec": {
   "display_name": "Python 3",
   "language": "python",
   "name": "python3"
  },
  "language_info": {
   "codemirror_mode": {
    "name": "ipython",
    "version": 3
   },
   "file_extension": ".py",
   "mimetype": "text/x-python",
   "name": "python",
   "nbconvert_exporter": "python",
   "pygments_lexer": "ipython3",
   "version": "3.8.2"
  }
 },
 "nbformat": 4,
 "nbformat_minor": 4
}
